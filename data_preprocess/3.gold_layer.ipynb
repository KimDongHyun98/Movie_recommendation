{
 "cells": [
  {
   "cell_type": "markdown",
   "metadata": {
    "application/vnd.databricks.v1+cell": {
     "cellMetadata": {
      "byteLimit": 2048000,
      "rowLimit": 10000
     },
     "inputWidgets": {},
     "nuid": "69a208c8-f5ff-4d21-aa51-5a43fefee9b4",
     "showTitle": false,
     "tableResultSettingsMap": {},
     "title": ""
    }
   },
   "source": [
    "# SparkSession"
   ]
  },
  {
   "cell_type": "code",
   "execution_count": null,
   "metadata": {
    "application/vnd.databricks.v1+cell": {
     "cellMetadata": {
      "byteLimit": 2048000,
      "rowLimit": 10000
     },
     "inputWidgets": {},
     "nuid": "90db144a-d62b-4f1a-b5fe-32304969abff",
     "showTitle": false,
     "tableResultSettingsMap": {},
     "title": ""
    }
   },
   "outputs": [],
   "source": [
    "from pyspark.sql import SparkSession\n",
    "from pyspark.sql.functions import *\n",
    "from pyspark.sql.window import Window\n",
    "import matplotlib.pyplot as plt\n",
    "import numpy as np\n",
    "import pandas as pd"
   ]
  },
  {
   "cell_type": "code",
   "execution_count": null,
   "metadata": {
    "application/vnd.databricks.v1+cell": {
     "cellMetadata": {
      "byteLimit": 2048000,
      "rowLimit": 10000
     },
     "inputWidgets": {},
     "nuid": "a0079046-9260-4e80-94f3-45bb200ff575",
     "showTitle": false,
     "tableResultSettingsMap": {},
     "title": ""
    }
   },
   "outputs": [],
   "source": [
    "spark = SparkSession.builder \\\n",
    "    .appName(\"data_preprocessing_gold\") \\\n",
    "    .getOrCreate()"
   ]
  },
  {
   "cell_type": "code",
   "execution_count": null,
   "metadata": {},
   "outputs": [],
   "source": [
    "catalog = \"1dt_team8_databricks\"\n",
    "movielens_schema = \"`movielens-32m`\"\n",
    "final_schema = \"`final`\"\n",
    "\n",
    "movies_with_ratings_silver = spark.table(f\"{catalog}.{movielens_schema}.movies_with_ratings_silver\")\n",
    "rating_counts_df_silver = spark.table(f\"{catalog}.{movielens_schema}.rating_counts_df_silver\")\n",
    "user_counts_silver = spark.table(f\"{catalog}.{movielens_schema}.user_counts_silver\")"
   ]
  },
  {
   "cell_type": "markdown",
   "metadata": {},
   "source": [
    "# Gold"
   ]
  },
  {
   "cell_type": "markdown",
   "metadata": {},
   "source": [
    "# 유저별 리뷰수 20개 이상 필터링"
   ]
  },
  {
   "cell_type": "code",
   "execution_count": null,
   "metadata": {},
   "outputs": [],
   "source": [
    "valid_users = user_counts_silver.filter(col(\"review_count\") >= 20).select(\"userId\")\n",
    "\n",
    "# valid_users와 movies_with_ratings_silver 조인해서 필터링된 데이터셋 생성\n",
    "filtered_df = movies_with_ratings_silver.join(valid_users, on=\"userId\", how=\"inner\")\n",
    "\n",
    "# 유저별 랜덤 정렬 후 row 번호 생성\n",
    "window = Window.partitionBy(\"userId\").orderBy(rand(seed=0))\n",
    "filtered_df = filtered_df.withColumn(\"row_num\", row_number().over(window))\n",
    "\n",
    "# 유저별 총 리뷰 개수 계산 후 조인\n",
    "user_total_counts = filtered_df.groupBy(\"userId\").count().withColumnRenamed(\"count\", \"total_count\")\n",
    "df_with_counts = filtered_df.join(user_total_counts, on=\"userId\")"
   ]
  },
  {
   "cell_type": "markdown",
   "metadata": {
    "application/vnd.databricks.v1+cell": {
     "cellMetadata": {
      "byteLimit": 2048000,
      "rowLimit": 10000
     },
     "inputWidgets": {},
     "nuid": "19d27876-3824-4647-af56-46c5a0213d1c",
     "showTitle": false,
     "tableResultSettingsMap": {},
     "title": ""
    }
   },
   "source": [
    "# train/val/test split"
   ]
  },
  {
   "cell_type": "markdown",
   "metadata": {
    "application/vnd.databricks.v1+cell": {
     "cellMetadata": {
      "byteLimit": 2048000,
      "rowLimit": 10000
     },
     "inputWidgets": {},
     "nuid": "292fb328-0a23-4007-ac56-b081a7554060",
     "showTitle": false,
     "tableResultSettingsMap": {},
     "title": ""
    }
   },
   "source": [
    "유저별로 6:2:2로 나눔"
   ]
  },
  {
   "cell_type": "markdown",
   "metadata": {
    "application/vnd.databricks.v1+cell": {
     "cellMetadata": {},
     "inputWidgets": {},
     "nuid": "86874e70-d8b1-4552-bb6e-98a5319df3ed",
     "showTitle": false,
     "tableResultSettingsMap": {},
     "title": ""
    }
   },
   "source": [
    "warm start"
   ]
  },
  {
   "cell_type": "code",
   "execution_count": null,
   "metadata": {
    "application/vnd.databricks.v1+cell": {
     "cellMetadata": {
      "byteLimit": 2048000,
      "rowLimit": 10000
     },
     "inputWidgets": {},
     "nuid": "c2e0a541-49b5-4b95-8f18-f7c3fd5b43e9",
     "showTitle": false,
     "tableResultSettingsMap": {},
     "title": ""
    }
   },
   "outputs": [],
   "source": [
    "# 1) 유저별로 리뷰 랜덤 정렬 후 row 번호 생성 (리뷰 단위 분할)\n",
    "window = Window.partitionBy(\"userId\").orderBy(rand(seed=0))\n",
    "filtered_df = filtered_df.withColumn(\"row_num\", row_number().over(window))\n",
    "\n",
    "user_total_counts = filtered_df.groupBy(\"userId\").count().withColumnRenamed(\"count\", \"total_count\")\n",
    "df_with_counts = filtered_df.join(user_total_counts, on=\"userId\")\n",
    "\n",
    "df_split = df_with_counts.withColumn(\n",
    "    \"dataset\",\n",
    "    when(col(\"row_num\") <= floor(col(\"total_count\") * 0.6), \"train\")\n",
    "    .when(col(\"row_num\") <= floor(col(\"total_count\") * 0.8), \"val\")\n",
    "    .otherwise(\"test\")\n",
    ")\n",
    "\n",
    "train_df = df_split.filter(col(\"dataset\") == \"train\").drop(\"row_num\", \"total_count\", \"dataset\")\n",
    "val_df = df_split.filter(col(\"dataset\") == \"val\").drop(\"row_num\", \"total_count\", \"dataset\")\n",
    "test_df = df_split.filter(col(\"dataset\") == \"test\").drop(\"row_num\", \"total_count\", \"dataset\")"
   ]
  },
  {
   "cell_type": "markdown",
   "metadata": {
    "application/vnd.databricks.v1+cell": {
     "cellMetadata": {},
     "inputWidgets": {},
     "nuid": "525db974-62ad-4255-ad67-d8dcdfe98bb8",
     "showTitle": false,
     "tableResultSettingsMap": {},
     "title": ""
    }
   },
   "source": [
    "cold start"
   ]
  },
  {
   "cell_type": "code",
   "execution_count": null,
   "metadata": {
    "application/vnd.databricks.v1+cell": {
     "cellMetadata": {
      "byteLimit": 2048000,
      "rowLimit": 10000
     },
     "inputWidgets": {},
     "nuid": "e2adb8c7-8256-4f6b-b58e-00082facd21d",
     "showTitle": false,
     "tableResultSettingsMap": {},
     "title": ""
    }
   },
   "outputs": [],
   "source": [
    "# 2) 유저 단위로 랜덤하게 섞어서 데이터셋 할당 (유저 단위 분할)\n",
    "users = filtered_df.select(\"userId\").distinct()\n",
    "users = users.withColumn(\"rand\", rand(seed=42))\n",
    "users_split = users.withColumn(\n",
    "    \"dataset\",\n",
    "    when(col(\"rand\") <= 0.6, \"train\")\n",
    "    .when(col(\"rand\") <= 0.8, \"val\")\n",
    "    .otherwise(\"test\")\n",
    ").select(\"userId\", \"dataset\")\n",
    "\n",
    "df_with_dataset = filtered_df.join(users_split, on=\"userId\")\n",
    "\n",
    "train_data = df_with_dataset.filter(col(\"dataset\") == \"train\").drop(\"dataset\", \"row_num\", \"total_count\")\n",
    "val_data = df_with_dataset.filter(col(\"dataset\") == \"val\").drop(\"dataset\", \"row_num\", \"total_count\")\n",
    "test_data = df_with_dataset.filter(col(\"dataset\") == \"test\").drop(\"dataset\", \"row_num\", \"total_count\")"
   ]
  },
  {
   "cell_type": "code",
   "execution_count": null,
   "metadata": {},
   "outputs": [],
   "source": [
    "train_df.write.format(\"delta\").mode(\"overwrite\").saveAsTable(f\"{catalog}.{final_schema}.train_df\")\n",
    "val_df.write.format(\"delta\").mode(\"overwrite\").saveAsTable(f\"{catalog}.{final_schema}.validation_df\")\n",
    "test_df.write.format(\"delta\").mode(\"overwrite\").saveAsTable(f\"{catalog}.{final_schema}.test_df\")\n",
    "\n",
    "train_data.write.format(\"delta\").mode(\"overwrite\").saveAsTable(f\"{catalog}.{final_schema}.train_data\")\n",
    "val_data.write.format(\"delta\").mode(\"overwrite\").saveAsTable(f\"{catalog}.{final_schema}.validation_data\")\n",
    "test_data.write.format(\"delta\").mode(\"overwrite\").saveAsTable(f\"{catalog}.{final_schema}.test_data\")\n",
    "\n",
    "print(\"골드 레이어에 리뷰 단위 분할 및 유저 단위 분할 데이터셋이 저장되었습니다.\")"
   ]
  }
 ],
 "metadata": {
  "application/vnd.databricks.v1+notebook": {
   "computePreferences": null,
   "dashboards": [],
   "environmentMetadata": {
    "base_environment": "",
    "environment_version": "2"
   },
   "inputWidgetPreferences": null,
   "language": "python",
   "notebookMetadata": {
    "pythonIndentUnit": 4
   },
   "notebookName": "데이터 처리",
   "widgets": {}
  },
  "kernelspec": {
   "display_name": "",
   "name": ""
  },
  "language_info": {
   "name": "python"
  }
 },
 "nbformat": 4,
 "nbformat_minor": 4
}
