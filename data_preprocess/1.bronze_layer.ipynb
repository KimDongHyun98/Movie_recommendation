{
 "cells": [
  {
   "cell_type": "markdown",
   "metadata": {
    "application/vnd.databricks.v1+cell": {
     "cellMetadata": {
      "byteLimit": 2048000,
      "rowLimit": 10000
     },
     "inputWidgets": {},
     "nuid": "69a208c8-f5ff-4d21-aa51-5a43fefee9b4",
     "showTitle": false,
     "tableResultSettingsMap": {},
     "title": ""
    }
   },
   "source": [
    "# SparkSession"
   ]
  },
  {
   "cell_type": "code",
   "execution_count": null,
   "metadata": {
    "application/vnd.databricks.v1+cell": {
     "cellMetadata": {
      "byteLimit": 2048000,
      "rowLimit": 10000
     },
     "inputWidgets": {},
     "nuid": "90db144a-d62b-4f1a-b5fe-32304969abff",
     "showTitle": false,
     "tableResultSettingsMap": {},
     "title": ""
    }
   },
   "outputs": [],
   "source": [
    "from pyspark.sql import SparkSession\n",
    "from pyspark.sql.functions import *\n",
    "from pyspark.sql.window import Window\n",
    "import matplotlib.pyplot as plt\n",
    "import numpy as np\n",
    "import pandas as pd"
   ]
  },
  {
   "cell_type": "code",
   "execution_count": null,
   "metadata": {
    "application/vnd.databricks.v1+cell": {
     "cellMetadata": {
      "byteLimit": 2048000,
      "rowLimit": 10000
     },
     "inputWidgets": {},
     "nuid": "a0079046-9260-4e80-94f3-45bb200ff575",
     "showTitle": false,
     "tableResultSettingsMap": {},
     "title": ""
    }
   },
   "outputs": [],
   "source": [
    "spark = SparkSession.builder \\\n",
    "    .appName(\"data_preprocessing_bronze\") \\\n",
    "    .getOrCreate()"
   ]
  },
  {
   "cell_type": "markdown",
   "metadata": {
    "application/vnd.databricks.v1+cell": {
     "cellMetadata": {
      "byteLimit": 2048000,
      "rowLimit": 10000
     },
     "inputWidgets": {},
     "nuid": "c655d328-1fe7-461c-a000-bf1eb262afb8",
     "showTitle": false,
     "tableResultSettingsMap": {},
     "title": ""
    }
   },
   "source": [
    "# Bronze"
   ]
  },
  {
   "cell_type": "markdown",
   "metadata": {
    "application/vnd.databricks.v1+cell": {
     "cellMetadata": {
      "byteLimit": 2048000,
      "rowLimit": 10000
     },
     "inputWidgets": {},
     "nuid": "f5e33b36-d370-4504-800b-6fcf855ae6d4",
     "showTitle": false,
     "tableResultSettingsMap": {},
     "title": ""
    }
   },
   "source": [
    "원시 데이터를 그대로 저장하는 단계"
   ]
  },
  {
   "cell_type": "code",
   "execution_count": null,
   "metadata": {},
   "outputs": [],
   "source": [
    "catalog = \"1dt_team8_databricks\"\n",
    "schema = \"`movielens-32m`\"\n",
    "\n",
    "# 원시 CSV 파일 경로 (예시)\n",
    "movies_csv_path = \"/mnt/raw/movielens/movies.csv\"\n",
    "ratings_csv_path = \"/mnt/raw/movielens/ratings.csv\"\n",
    "tags_csv_path = \"/mnt/raw/movielens/tags.csv\"\n",
    "links_csv_path = \"/mnt/raw/movielens/links.csv\"\n",
    "\n",
    "# CSV 파일을 Spark DataFrame으로 읽기 (헤더 포함, 스키마 자동 추론)\n",
    "movies_df = spark.read.option(\"header\", True).option(\"inferSchema\", True).csv(movies_csv_path)\n",
    "ratings_df = spark.read.option(\"header\", True).option(\"inferSchema\", True).csv(ratings_csv_path)\n",
    "tags_df = spark.read.option(\"header\", True).option(\"inferSchema\", True).csv(tags_csv_path)\n",
    "links_df = spark.read.option(\"header\", True).option(\"inferSchema\", True).csv(links_csv_path)\n",
    "\n",
    "# Delta 포맷으로 브론즈 테이블 저장 (overwrite 모드)\n",
    "movies_df.write.format(\"delta\").mode(\"overwrite\").saveAsTable(f\"{catalog}.{schema}.movies_bronze\")\n",
    "ratings_df.write.format(\"delta\").mode(\"overwrite\").saveAsTable(f\"{catalog}.{schema}.ratings_bronze\")\n",
    "tags_df.write.format(\"delta\").mode(\"overwrite\").saveAsTable(f\"{catalog}.{schema}.tags_bronze\")\n",
    "links_df.write.format(\"delta\").mode(\"overwrite\").saveAsTable(f\"{catalog}.{schema}.links_bronze\")\n",
    "\n",
    "print(\"브론즈 레이어 테이블이 성공적으로 생성되었습니다.\")"
   ]
  },
  {
   "cell_type": "code",
   "execution_count": null,
   "metadata": {},
   "outputs": [],
   "source": [
    "schema = \"`imdb`\"\n",
    "\n",
    "# IMDb 원시 CSV 파일 경로 (예시)\n",
    "title_basics_csv_path = \"/mnt/raw/imdb/title_basics.csv\"\n",
    "title_ratings_csv_path = \"/mnt/raw/imdb/title_ratings.csv\"\n",
    "\n",
    "# CSV 파일을 Spark DataFrame으로 읽기 (헤더 포함, 스키마 자동 추론)\n",
    "title_basics_df = spark.read.option(\"header\", True).option(\"inferSchema\", True).csv(title_basics_csv_path)\n",
    "title_ratings_df = spark.read.option(\"header\", True).option(\"inferSchema\", True).csv(title_ratings_csv_path)\n",
    "\n",
    "# Delta 포맷으로 브론즈 테이블 저장 (overwrite 모드)\n",
    "title_basics_df.write.format(\"delta\").mode(\"overwrite\").saveAsTable(f\"{catalog}.{schema}.title_basics_bronze\")\n",
    "title_ratings_df.write.format(\"delta\").mode(\"overwrite\").saveAsTable(f\"{catalog}.{schema}.title_ratings_bronze\")\n",
    "\n",
    "print(\"IMDb 브론즈 레이어 테이블이 성공적으로 생성되었습니다.\")"
   ]
  }
 ],
 "metadata": {
  "application/vnd.databricks.v1+notebook": {
   "computePreferences": null,
   "dashboards": [],
   "environmentMetadata": {
    "base_environment": "",
    "environment_version": "2"
   },
   "inputWidgetPreferences": null,
   "language": "python",
   "notebookMetadata": {
    "pythonIndentUnit": 4
   },
   "notebookName": "데이터 처리",
   "widgets": {}
  },
  "kernelspec": {
   "display_name": "",
   "name": ""
  },
  "language_info": {
   "name": "python"
  }
 },
 "nbformat": 4,
 "nbformat_minor": 4
}
