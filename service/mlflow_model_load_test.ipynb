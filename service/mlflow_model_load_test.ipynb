{
 "cells": [
  {
   "cell_type": "code",
   "execution_count": null,
   "metadata": {
    "application/vnd.databricks.v1+cell": {
     "cellMetadata": {
      "byteLimit": 2048000,
      "rowLimit": 10000
     },
     "inputWidgets": {},
     "nuid": "79643205-7524-4dc0-919e-ca4935226921",
     "showTitle": false,
     "tableResultSettingsMap": {},
     "title": ""
    }
   },
   "outputs": [],
   "source": [
    "from recommendation_service import RecommendationService, get_movie_titles\n",
    "from pyspark.sql import SparkSession\n",
    "import pandas as pd\n",
    "\n",
    "# Spark 세션 생성 (Databricks 환경에서는 이미 존재할 수 있음)\n",
    "spark = SparkSession.builder.getOrCreate()\n",
    "\n",
    "# 모델 URI 설정\n",
    "model_uri = \"models:/bert4rec_v4/3\"\n",
    "\n",
    "# 서비스 인스턴스 생성\n",
    "rec_service = RecommendationService(model_uri)\n",
    "\n",
    "# 예측 입력 데이터 생성\n",
    "input_data = pd.DataFrame({\n",
    "    \"movie_history\": [[4896,1,4993,5952,33794,91529,109487,8368,7153,89745,5816,58559]]\n",
    "})\n",
    "\n",
    "# 추천 결과 얻기\n",
    "recommendations = rec_service.predict(input_data)\n",
    "result_movie_ids = recommendations.iloc[0].tolist()[0]\n",
    "\n",
    "# 영화 제목 가져오기\n",
    "movies_table_name = \"1dt_team8_databricks.`movielens-32m`.movies\"\n",
    "titles = get_movie_titles(result_movie_ids, spark, movies_table_name)\n",
    "\n",
    "print(titles)"
   ]
  }
 ],
 "metadata": {
  "application/vnd.databricks.v1+notebook": {
   "computePreferences": null,
   "dashboards": [],
   "environmentMetadata": {
    "base_environment": "",
    "environment_version": "2"
   },
   "inputWidgetPreferences": null,
   "language": "python",
   "notebookMetadata": {
    "pythonIndentUnit": 4
   },
   "notebookName": "mlflow_model_load_test",
   "widgets": {}
  },
  "kernelspec": {
   "display_name": "",
   "name": ""
  },
  "language_info": {
   "name": "python"
  }
 },
 "nbformat": 4,
 "nbformat_minor": 4
}
